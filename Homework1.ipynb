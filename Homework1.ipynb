{
  "nbformat": 4,
  "nbformat_minor": 0,
  "metadata": {
    "colab": {
      "provenance": [],
      "authorship_tag": "ABX9TyMZoBPfd5vQ8EerF3QvrjLh",
      "include_colab_link": true
    },
    "kernelspec": {
      "name": "python3",
      "display_name": "Python 3"
    },
    "language_info": {
      "name": "python"
    }
  },
  "cells": [
    {
      "cell_type": "markdown",
      "metadata": {
        "id": "view-in-github",
        "colab_type": "text"
      },
      "source": [
        "<a href=\"https://colab.research.google.com/github/brheinfe/494Homework/blob/main/Homework1.ipynb\" target=\"_parent\"><img src=\"https://colab.research.google.com/assets/colab-badge.svg\" alt=\"Open In Colab\"/></a>"
      ]
    },
    {
      "cell_type": "markdown",
      "source": [
        "# **MAE 494 Homework 1**<br>\n",
        "**Problem 1**<br>\n",
        "Solve the following problem using Python SciPy.optimize or JuMP.\n",
        "Please attach your code and results. Specify your initial guesses of\n",
        "the solution. If you change your initial guess, do you find different\n",
        "solutions? (30 points)<br>\n",
        "minimize: $(x_1 − x_2)^2 + (x_2 + x_3 − 2)^2 + (x_4 − 1)^2 + (x_5 − 1)^2$<br>\n",
        "subject to: $x_1 + 3x_2 = 0$<br>\n",
        "$x_3 + x_4 − 2x_5 = 0$<br>\n",
        "$x_2 − x_5 = 0$<br>\n",
        "$− 10 ≤ x_i ≤ 10, i = 1, . . . , 5$<br><br><br>\n",
        "SciPy User Guide (For my own use): https://docs.scipy.org/doc/scipy/tutorial/optimize.html#"
      ],
      "metadata": {
        "id": "7biOrQP83xKB"
      }
    },
    {
      "cell_type": "code",
      "source": [
        "import scipy.optimize as spopt\n",
        "import numpy as np\n",
        "x0 = [1,1,1,1,1]\n",
        "def f(x):\n",
        "  return (x[0]-x[1])**2+(x[1]+x[2]-2)**2+(x[3]-1)**2+(x[4]-1)**2\n",
        "from scipy.optimize import LinearConstraint\n",
        "linconst = LinearConstraint([[1,3,0,0,0],[0,0,1,1,-2],[0,1,0,0,-1]],[0,0,0],[0,0,0])\n",
        "from scipy.optimize import Bounds\n",
        "bounds = Bounds(-10,10)\n",
        "output = spopt.minimize(f,x0,constraints=linconst,bounds=bounds)\n",
        "print(output.x)\n",
        "print(f(output.x))"
      ],
      "metadata": {
        "id": "qro1nvyT32hX",
        "colab": {
          "base_uri": "https://localhost:8080/"
        },
        "outputId": "ed5e236c-cd41-4658-8d69-9b23096a7ee5"
      },
      "execution_count": 47,
      "outputs": [
        {
          "output_type": "stream",
          "name": "stdout",
          "text": [
            "[-0.76749312  0.25583104  0.62795044 -0.11628835  0.25583104]\n",
            "4.09302326452976\n"
          ]
        }
      ]
    }
  ]
}