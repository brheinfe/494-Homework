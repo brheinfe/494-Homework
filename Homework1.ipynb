{
  "nbformat": 4,
  "nbformat_minor": 0,
  "metadata": {
    "colab": {
      "provenance": [],
      "authorship_tag": "ABX9TyNqeuxCopq7+KdKl1qpJ4vc",
      "include_colab_link": true
    },
    "kernelspec": {
      "name": "python3",
      "display_name": "Python 3"
    },
    "language_info": {
      "name": "python"
    }
  },
  "cells": [
    {
      "cell_type": "markdown",
      "metadata": {
        "id": "view-in-github",
        "colab_type": "text"
      },
      "source": [
        "<a href=\"https://colab.research.google.com/github/brheinfe/494Homework/blob/main/Homework1.ipynb\" target=\"_parent\"><img src=\"https://colab.research.google.com/assets/colab-badge.svg\" alt=\"Open In Colab\"/></a>"
      ]
    },
    {
      "cell_type": "markdown",
      "source": [
        "MAE 494 Homework 1"
      ],
      "metadata": {
        "id": "7biOrQP83xKB"
      }
    },
    {
      "cell_type": "code",
      "source": [
        "import scipy as sp"
      ],
      "metadata": {
        "id": "qro1nvyT32hX"
      },
      "execution_count": 2,
      "outputs": []
    }
  ]
}