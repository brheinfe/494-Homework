{
  "nbformat": 4,
  "nbformat_minor": 0,
  "metadata": {
    "colab": {
      "provenance": [],
      "authorship_tag": "ABX9TyMEcY+PGXmTKChPteqdLghj",
      "include_colab_link": true
    },
    "kernelspec": {
      "name": "python3",
      "display_name": "Python 3"
    },
    "language_info": {
      "name": "python"
    }
  },
  "cells": [
    {
      "cell_type": "markdown",
      "metadata": {
        "id": "view-in-github",
        "colab_type": "text"
      },
      "source": [
        "<a href=\"https://colab.research.google.com/github/brheinfe/494Homework/blob/main/Homework1.ipynb\" target=\"_parent\"><img src=\"https://colab.research.google.com/assets/colab-badge.svg\" alt=\"Open In Colab\"/></a>"
      ]
    },
    {
      "cell_type": "markdown",
      "source": [
        "# **MAE 494 Homework 1**<br>\n",
        "**Problem 1**<br>\n",
        "Solve the following problem using Python SciPy.optimize or JuMP.\n",
        "Please attach your code and results. Specify your initial guesses of\n",
        "the solution. If you change your initial guess, do you find different\n",
        "solutions? (30 points)<br>\n",
        "minimize: $(x_1 − x_2)^2 + (x_2 + x_3 − 2)^2 + (x_4 − 1)^2 + (x_5 − 1)^2$<br>\n",
        "subject to: $x_1 + 3x_2 = 0$<br>\n",
        "$x_3 + x_4 − 2x_5 = 0$<br>\n",
        "$x_2 − x_5 = 0$<br>\n",
        "$− 10 ≤ x_i ≤ 10, i = 1, . . . , 5$<br><br><br>\n",
        "SciPy User Guide (For my own use): https://docs.scipy.org/doc/scipy/tutorial/optimize.html#"
      ],
      "metadata": {
        "id": "7biOrQP83xKB"
      }
    },
    {
      "cell_type": "code",
      "source": [
        "import scipy.optimize as spopt\n",
        "import numpy as np\n",
        "x0 = [-30,50,-200,40,16]\n",
        "def f(x):\n",
        "  return (x[0]-x[1])**2+(x[1]+x[2]-2)**2+(x[3]-1)**2+(x[4]-1)**2\n",
        "from scipy.optimize import LinearConstraint\n",
        "linconst = LinearConstraint([[1,3,0,0,0],[0,0,1,1,-2],[0,1,0,0,-1]],[0,0,0],[0,0,0])\n",
        "from scipy.optimize import Bounds\n",
        "bounds = Bounds(-10,10)\n",
        "output = spopt.minimize(f,x0,constraints=linconst,bounds=bounds)\n",
        "print(\"Initial Guesses:\",x0)\n",
        "print(\"x =\",output.x)\n",
        "print(\"Minimized Value:\",f(output.x))"
      ],
      "metadata": {
        "id": "qro1nvyT32hX",
        "colab": {
          "base_uri": "https://localhost:8080/"
        },
        "outputId": "14e57846-0fa9-48cf-cb5a-e5c32fef2328"
      },
      "execution_count": 58,
      "outputs": [
        {
          "output_type": "stream",
          "name": "stdout",
          "text": [
            "Initial Guesses: [-30, 50, -200, 40, 16]\n",
            "x = [-0.76744185  0.25581395  0.62790698 -0.11627908  0.25581395]\n",
            "Minimized Value: 4.093023255813954\n"
          ]
        }
      ]
    },
    {
      "cell_type": "markdown",
      "source": [
        "The results of this minimization are shown above. Changing the initial guess does not result in a change in the solution, even when the initial guess is outside the problem bounds. I think it would change if the bounds were removed. I will test this theory below:"
      ],
      "metadata": {
        "id": "V9yJS022PAsp"
      }
    },
    {
      "cell_type": "code",
      "source": [
        "import scipy.optimize as spopt\n",
        "import numpy as np\n",
        "x0 = [-30,50,-200,40,16]\n",
        "def f(x):\n",
        "  return (x[0]-x[1])**2+(x[1]+x[2]-2)**2+(x[3]-1)**2+(x[4]-1)**2\n",
        "from scipy.optimize import LinearConstraint\n",
        "linconst = LinearConstraint([[1,3,0,0,0],[0,0,1,1,-2],[0,1,0,0,-1]],[0,0,0],[0,0,0])\n",
        "#from scipy.optimize import Bounds\n",
        "#bounds = Bounds(-10,10)\n",
        "#output = spopt.minimize(f,x0,constraints=linconst,bounds=bounds)\n",
        "output = spopt.minimize(f,x0,constraints=linconst)\n",
        "print(\"Initial Guesses:\",x0)\n",
        "print(\"x =\",output.x)\n",
        "print(\"Minimized Value:\",f(output.x))"
      ],
      "metadata": {
        "id": "A0F_WA33Pd-l",
        "outputId": "4e1d54c8-de98-4e84-85d2-5bceff63fc98",
        "colab": {
          "base_uri": "https://localhost:8080/"
        }
      },
      "execution_count": 59,
      "outputs": [
        {
          "output_type": "stream",
          "name": "stdout",
          "text": [
            "Initial Guesses: [-30, 50, -200, 40, 16]\n",
            "x = [-0.76744186  0.25581395  0.62790697 -0.11627906  0.25581395]\n",
            "Minimized Value: 4.093023255813954\n"
          ]
        }
      ]
    },
    {
      "cell_type": "markdown",
      "source": [
        "From this block of code, we can see that my hypothesis was incorrect. It would appear this function minimizes to the same value, regardless of the boundary conditions."
      ],
      "metadata": {
        "id": "_fKQJ8AoPz8c"
      }
    }
  ]
}