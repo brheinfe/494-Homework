{
  "nbformat": 4,
  "nbformat_minor": 0,
  "metadata": {
    "colab": {
      "provenance": [],
      "authorship_tag": "ABX9TyNP1t11oortouhpOOMb8h3e",
      "include_colab_link": true
    },
    "kernelspec": {
      "name": "python3",
      "display_name": "Python 3"
    },
    "language_info": {
      "name": "python"
    }
  },
  "cells": [
    {
      "cell_type": "markdown",
      "metadata": {
        "id": "view-in-github",
        "colab_type": "text"
      },
      "source": [
        "<a href=\"https://colab.research.google.com/github/brheinfe/494-Homework/blob/main/Homework2.ipynb\" target=\"_parent\"><img src=\"https://colab.research.google.com/assets/colab-badge.svg\" alt=\"Open In Colab\"/></a>"
      ]
    },
    {
      "cell_type": "markdown",
      "source": [
        "# **MAE 494 Homework 2**\n",
        "**Problem 1**\n",
        "Show that the stationary point (zero gradient) of the function<br><br>\n",
        "$$f(x_1,x_2) = 2x_1^2-4x_1x_2 + 1.5x_2^2 + x_2$$<br>\n",
        "is a saddle (with indefinite Hessian). Find the directions of downslopes away from the saddle. To do this, use Taylor's expansion at the saddle point to show that<br><br>\n",
        "$$f(x_1,x_2) = f(1,1) + (a{\\delta}x_1-b{\\delta}x_2)(c{\\delta}x_1-d{\\delta}x_2)$$<br>\n",
        "with some constants $a,b,c,d$ and ${\\delta}x_i = x_i-1$ for $i = 1,2$. Then the directions of the downslopes are such $({\\delta}x_1,{\\delta}x_2)$ that<br><br>\n",
        "$$ f(x_1,x_2) - f(1,1) = (a{\\delta}x_1-b{\\delta}x_2)(c{\\delta}x_1-d{\\delta}x_2)<0$$\n"
      ],
      "metadata": {
        "id": "_numDy9nxzdi"
      }
    }
  ]
}