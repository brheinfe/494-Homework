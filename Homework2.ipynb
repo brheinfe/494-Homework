{
  "nbformat": 4,
  "nbformat_minor": 0,
  "metadata": {
    "colab": {
      "provenance": [],
      "authorship_tag": "ABX9TyMxiHYQd3fOMS7/azwtGDFc",
      "include_colab_link": true
    },
    "kernelspec": {
      "name": "python3",
      "display_name": "Python 3"
    },
    "language_info": {
      "name": "python"
    }
  },
  "cells": [
    {
      "cell_type": "markdown",
      "metadata": {
        "id": "view-in-github",
        "colab_type": "text"
      },
      "source": [
        "<a href=\"https://colab.research.google.com/github/brheinfe/494-Homework/blob/main/Homework2.ipynb\" target=\"_parent\"><img src=\"https://colab.research.google.com/assets/colab-badge.svg\" alt=\"Open In Colab\"/></a>"
      ]
    },
    {
      "cell_type": "markdown",
      "source": [
        "# **MAE 494 Homework 2**\n",
        "**Problem 1**<br>\n",
        "(a) Show that the stationary point (zero gradient) of the function<br><br>\n",
        "$$f(x_1,x_2) = 2x_1^2-4x_1x_2 + 1.5x_2^2 + x_2$$<br>\n",
        "is a saddle (with indefinite Hessian).<br>\n",
        "(b) Find the directions of downslopes away from the saddle. To do this, use Taylor's expansion at the saddle point to show that<br><br>\n",
        "$$f(x_1,x_2) = f(1,1) + (a{\\delta}x_1-b{\\delta}x_2)(c{\\delta}x_1-d{\\delta}x_2)$$<br>\n",
        "with some constants $a,b,c,d$ and ${\\delta}x_i = x_i-1$ for $i = 1,2$. Then the directions of the downslopes are such $({\\delta}x_1,{\\delta}x_2)$ that<br><br>\n",
        "$$ f(x_1,x_2) - f(1,1) = (a{\\delta}x_1-b{\\delta}x_2)(c{\\delta}x_1-d{\\delta}x_2)<0$$<br><br>\n",
        "(a) <br>We will begin by finding the point of zero gradient for this function by evaluating the gradient, and then finding the point where it is equal to zero.<br>\n",
        "${\\nabla}f(x_1,x_2) =\n",
        "\\left[\\begin{array}{cc}\n",
        "\\frac{{\\partial}f}{{\\partial}x_1} \\\\ \\frac{{\\partial}f}{{\\partial}x_2}\n",
        "\\end{array}\\right] =\n",
        "\\left[\\begin{array}{cc}\n",
        "4x_1-4x_2 \\\\ 4x_1 + 3x_2 + 1\n",
        "\\end{array}\\right]$<br>\n",
        "$\\therefore 0 = 4x_1-4x_2 \\rightarrow x_1 = x_2$<br>\n",
        "$\\therefore x_1 = x_2 = -\\frac{1}{7}$<br>\n",
        "Then taking the Hessian:<br><br>\n",
        "$H = \\left[\\begin{array}{cc}\n",
        "\\frac{{\\partial^2}f}{{\\partial}x_1^2} & \\frac{{\\partial^2}f}{{\\partial}x_1{\\partial}x_2}\\\\ \\frac{{\\partial^2}f}{{\\partial}x_2{\\partial}x_1} & \\frac{{\\partial^2}f}{{\\partial}x_2^2}\n",
        "\\end{array}\\right] = \\left[\\begin{array}{cc}\n",
        "4 & -4 \\\\ 4 & 3\n",
        "\\end{array}\\right]$<br>\n",
        "From this, we can see that the Hessian is indefinite, so we know that the point of zero gradient occurs at a saddle."
      ],
      "metadata": {
        "id": "_numDy9nxzdi"
      }
    }
  ]
}