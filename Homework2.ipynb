{
  "nbformat": 4,
  "nbformat_minor": 0,
  "metadata": {
    "colab": {
      "provenance": [],
      "authorship_tag": "ABX9TyMqi6R7iYWMJBkX2L02DBS4",
      "include_colab_link": true
    },
    "kernelspec": {
      "name": "python3",
      "display_name": "Python 3"
    },
    "language_info": {
      "name": "python"
    }
  },
  "cells": [
    {
      "cell_type": "markdown",
      "metadata": {
        "id": "view-in-github",
        "colab_type": "text"
      },
      "source": [
        "<a href=\"https://colab.research.google.com/github/brheinfe/494-Homework/blob/main/Homework2.ipynb\" target=\"_parent\"><img src=\"https://colab.research.google.com/assets/colab-badge.svg\" alt=\"Open In Colab\"/></a>"
      ]
    },
    {
      "cell_type": "markdown",
      "source": [
        "# **MAE 494 Homework 2**\n",
        "**Problem 1**<br>\n",
        "(a) Show that the stationary point (zero gradient) of the function<br><br>\n",
        "$$f(x_1,x_2) = 2x_1^2-4x_1x_2 + 1.5x_2^2 + x_2$$<br>\n",
        "is a saddle (with indefinite Hessian).<br>\n",
        "(b) Find the directions of downslopes away from the saddle. To do this, use Taylor's expansion at the saddle point to show that<br><br>\n",
        "$$f(x_1,x_2) = f(1,1) + (a{\\delta}x_1-b{\\delta}x_2)(c{\\delta}x_1-d{\\delta}x_2)$$<br>\n",
        "with some constants $a,b,c,d$ and ${\\delta}x_i = x_i-1$ for $i = 1,2$. Then the directions of the downslopes are such $({\\delta}x_1,{\\delta}x_2)$ that<br><br>\n",
        "$$ f(x_1,x_2) - f(1,1) = (a{\\delta}x_1-b{\\delta}x_2)(c{\\delta}x_1-d{\\delta}x_2)<0$$<br><br>\n",
        "(a) We will begin by finding the point of zero gradient for this function by evaluating the gradient, and then finding the point where it is equal to zero.<br>\n",
        "${\\nabla}f(x_1,x_2) =\n",
        "\\left[\\begin{array}{cc}\n",
        "\\frac{{\\partial}f}{{\\partial}x_1} \\\\ \\frac{{\\partial}f}{{\\partial}x_2}\n",
        "\\end{array}\\right] =\n",
        "\\left[\\begin{array}{cc}\n",
        "4x_1-4x_2 \\\\ -4x_1 + 3x_2 + 1\n",
        "\\end{array}\\right]$<br>\n",
        "$\\therefore 0 = 4x_1-4x_2 \\rightarrow x_1 = x_2$<br>\n",
        "$\\therefore x_1 = x_2 = 1$<br>\n",
        "Then taking the Hessian:<br><br>\n",
        "$H = \\left[\\begin{array}{cc}\n",
        "\\frac{{\\partial^2}f}{{\\partial}x_1^2} & \\frac{{\\partial^2}f}{{\\partial}x_1{\\partial}x_2}\\\\ \\frac{{\\partial^2}f}{{\\partial}x_2{\\partial}x_1} & \\frac{{\\partial^2}f}{{\\partial}x_2^2}\n",
        "\\end{array}\\right] = \\left[\\begin{array}{cc}\n",
        "4 & -4 \\\\ -4 & 3\n",
        "\\end{array}\\right]$<br>\n",
        "From this, we can see that the Hessian is indefinite, so we know that the point of zero gradient occurs at a saddle.<br><br>\n",
        "(b)\n",
        "To find the direction of the downslopes, we will use Newton's Method around the point $x_k = (1,1)$, where ${\\delta}x = \\left[\\begin{array}{cc}\n",
        "{\\delta}x_1 \\\\ {\\delta}x_2\n",
        "\\end{array}\\right] = \\left[\\begin{array}{cc}\n",
        "x_1-x_{k,1} \\\\ x_2-x_{k,2}\n",
        "\\end{array}\\right]$:<br><br>\n",
        "$f(x_1,x_2) \\approx f(1,1) + {\\nabla}f(x_k){\\delta}x + \\frac{1}{2} {\\delta}x^TH_k{\\delta}x$<br>\n",
        "$f(x_1,x_2) \\approx 0.5 + 0 + \\frac{1}{2}\\left[\\begin{array}{cc}\n",
        "{\\delta}x_1 & {\\delta}x_2\n",
        "\\end{array}\\right]\n",
        "\\left[\\begin{array}{cc}\n",
        "4 & -4 \\\\ -4 & 3\n",
        "\\end{array}\\right]\\left[\\begin{array}{cc}\n",
        "{\\delta}x_1 \\\\ {\\delta}x_2\n",
        "\\end{array}\\right]$<br>\n",
        "$f(x_1,x_2) \\approx 0.5 + \\left[\\begin{array}{cc}\n",
        "2{\\delta}x_1-2{\\delta}x_2 & -2{\\delta}x_1+1.5{\\delta}x_2\n",
        "\\end{array}\\right]\\left[\\begin{array}{cc}\n",
        "{\\delta}x_1 \\\\ {\\delta}x_2\n",
        "\\end{array}\\right]$<br>\n",
        "$f(x_1,x_2) \\approx 0.5 + 2{\\delta}x_1^2-2{\\delta}x_1{\\delta}x_2-2{\\delta}x_1{\\delta}x_2+1.5{\\delta}x_2^2$<br>\n",
        "$f(x_1,x_2) \\approx 0.5 + 2{\\delta}x_1^2-4{\\delta}x_1{\\delta}x_2+1.5{\\delta}x_2^2$<br>\n",
        "$f(x_1,x_2) \\approx 0.5+(2{\\delta}x_1-3{\\delta}x_2)({\\delta}x_1-0.5{\\delta}x_2)$<br>\n",
        "Then comparing to the equation from above, we can find the coefficients $a,b,c,d$ to be:<br>\n",
        "$a = 2, b = -3, c = 1, d = -0.5$<br>\n",
        "Then we can use the second equation to calculate ${\\delta}x$ values that result in the equation being negative. It's clear to see that since the terms are multiplied, we want one to positive and the other to be negative. It's also quite simple to see that to accomplish this, ${\\delta}x_1$ and ${\\delta}x_2$ must both be positive, or they must both be negative."
      ],
      "metadata": {
        "id": "_numDy9nxzdi"
      }
    }
  ]
}